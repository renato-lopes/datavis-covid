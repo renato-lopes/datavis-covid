{
 "cells": [
  {
   "cell_type": "code",
   "execution_count": 70,
   "id": "de9f0e99",
   "metadata": {},
   "outputs": [],
   "source": [
    "import os\n",
    "import pandas as pd\n",
    "import numpy as np\n",
    "import csv"
   ]
  },
  {
   "cell_type": "code",
   "execution_count": 71,
   "id": "e24fd310",
   "metadata": {},
   "outputs": [],
   "source": [
    "# FILE = \"./covid/cases-brazil-total.csv\"\n",
    "# FILE = \"./covid/cases-brazil-cities.csv\"\n",
    "FILE = \"./covid/cases-brazil-states.csv\"\n",
    "df = pd.read_csv(FILE,  sep=',')"
   ]
  },
  {
   "cell_type": "markdown",
   "id": "c38e0dd3",
   "metadata": {},
   "source": [
    "# Casos Covid\n",
    "---"
   ]
  },
  {
   "cell_type": "code",
   "execution_count": 36,
   "id": "c656d185",
   "metadata": {},
   "outputs": [],
   "source": [
    "DATES = np.unique(df['date'], return_counts=True)\n",
    "DATES = list(DATES[0])\n",
    "STATES = ['MG', 'SP', 'AM', 'CE', 'PR']"
   ]
  },
  {
   "cell_type": "code",
   "execution_count": 37,
   "id": "3b4bc153",
   "metadata": {},
   "outputs": [],
   "source": [
    "header = ['key', 'value', 'date']\n",
    "data =[]\n",
    "for d in DATES:\n",
    "\n",
    "    for s in STATES:\n",
    "        base = (df['date'] == d) & (df['state'] == s)\n",
    "        novos_casos = df.loc[base]['newCases'].tolist()\n",
    "        novos = novos_casos[0] if novos_casos else 0\n",
    "        data.append([s, novos, d])        "
   ]
  },
  {
   "cell_type": "code",
   "execution_count": 38,
   "id": "70a85491",
   "metadata": {},
   "outputs": [],
   "source": [
    "with open('./covid/new_cases.csv', 'w', encoding='UTF8', newline='') as f:\n",
    "    writer = csv.writer(f)\n",
    "\n",
    "    # write the header\n",
    "    writer.writerow(header)\n",
    "\n",
    "    # write multiple rows\n",
    "    writer.writerows(data)"
   ]
  },
  {
   "cell_type": "markdown",
   "id": "fbe8780d",
   "metadata": {},
   "source": [
    "### Média móvel"
   ]
  },
  {
   "cell_type": "code",
   "execution_count": 69,
   "id": "b1c762f4",
   "metadata": {},
   "outputs": [],
   "source": [
    "cols = [\"date\", \"newCases\"]\n",
    "STATES = ['MG', 'SP', 'AM', 'CE', 'PR']\n",
    "\n",
    "\n",
    "def get_rolling(df, col_name, new_col):\n",
    "    df[new_col] = df[col_name].rolling(7, min_periods=7).mean().round(4)\n",
    "    return df\n",
    "\n",
    "\n",
    "data =[]\n",
    "\n",
    "for state in STATES:\n",
    "    state_data = df.loc[df[\"state\"] == state][cols].reset_index(drop=True).fillna(0.0)\n",
    "    state_data = get_rolling(state_data, \"newCases\", \"value\")\n",
    "    state_data = state_data[[\"date\", \"value\"]].assign(key=state)\n",
    "    \n",
    "    data.append(state_data)\n",
    "\n",
    "\n",
    "resultado = pd.concat(data)\n",
    "# resultado.to_csv('./covid/new_cases_media.csv', index=False)\n",
    "\n",
    "\n",
    "################################################\n",
    "\n",
    "df2 = resultado\n",
    "header = ['key', 'value', 'date']\n",
    "data =[]\n",
    "for d in DATES:\n",
    "    for s in STATES:\n",
    "        base = (df2['date'] == d) & (df2['key'] == s)\n",
    "        novos_casos = df2.loc[base]['value'].tolist()\n",
    "        novos = novos_casos[0] if novos_casos else 0\n",
    "        data.append([s, novos, d]) \n",
    "\n",
    "with open('./covid/new_cases_media.csv', 'w', encoding='UTF8', newline='') as f:\n",
    "    writer = csv.writer(f)\n",
    "\n",
    "    # write the header\n",
    "    writer.writerow(header)\n",
    "\n",
    "    # write multiple rows\n",
    "    writer.writerows(data)\n",
    "\n",
    "\n"
   ]
  },
  {
   "cell_type": "markdown",
   "id": "1195d95e",
   "metadata": {},
   "source": [
    "# Deaths\n",
    "---"
   ]
  },
  {
   "cell_type": "code",
   "execution_count": 72,
   "id": "e72e12ca",
   "metadata": {},
   "outputs": [],
   "source": [
    "DATES = np.unique(df['date'], return_counts=True)\n",
    "DATES = list(DATES[0])\n",
    "STATES = ['MG', 'SP', 'AM', 'CE', 'PR']\n"
   ]
  },
  {
   "cell_type": "code",
   "execution_count": 41,
   "id": "75017329",
   "metadata": {},
   "outputs": [],
   "source": [
    "header = ['key', 'value', 'date']\n",
    "data =[]\n",
    "for d in DATES:\n",
    "\n",
    "    for s in STATES:\n",
    "        base = (df['date'] == d) & (df['state'] == s)\n",
    "        novos_casos = df.loc[base]['newDeaths'].tolist()\n",
    "        novos = novos_casos[0] if novos_casos else 0\n",
    "        data.append([s, novos, d])        "
   ]
  },
  {
   "cell_type": "code",
   "execution_count": 42,
   "id": "d91d8b6e",
   "metadata": {},
   "outputs": [],
   "source": [
    "with open('./covid/new_deaths.csv', 'w', encoding='UTF8', newline='') as f:\n",
    "    writer = csv.writer(f)\n",
    "\n",
    "    # write the header\n",
    "    writer.writerow(header)\n",
    "\n",
    "    # write multiple rows\n",
    "    writer.writerows(data)"
   ]
  },
  {
   "cell_type": "markdown",
   "id": "6f83e174",
   "metadata": {},
   "source": [
    "### Média"
   ]
  },
  {
   "cell_type": "code",
   "execution_count": 73,
   "id": "578a697e",
   "metadata": {},
   "outputs": [],
   "source": [
    "cols = [\"date\", \"newDeaths\"]\n",
    "STATES = ['MG', 'SP', 'AM', 'CE', 'PR']\n",
    "\n",
    "\n",
    "def get_rolling(df, col_name, new_col):\n",
    "    df[new_col] = df[col_name].rolling(7, min_periods=7).mean().round(4)\n",
    "    return df\n",
    "\n",
    "\n",
    "data =[]\n",
    "\n",
    "for state in STATES:\n",
    "    state_data = df.loc[df[\"state\"] == state][cols].reset_index(drop=True).fillna(0.0)\n",
    "    state_data = get_rolling(state_data, \"newDeaths\", \"value\")\n",
    "    state_data = state_data[[\"date\", \"value\"]].assign(key=state)\n",
    "    \n",
    "    data.append(state_data)\n",
    "\n",
    "\n",
    "resultado = pd.concat(data)\n",
    "# resultado.to_csv('./covid/new_cases_media.csv', index=False)\n",
    "\n",
    "\n",
    "################################################\n",
    "\n",
    "df2 = resultado\n",
    "header = ['key', 'value', 'date']\n",
    "data =[]\n",
    "for d in DATES:\n",
    "    for s in STATES:\n",
    "        base = (df2['date'] == d) & (df2['key'] == s)\n",
    "        novos_casos = df2.loc[base]['value'].tolist()\n",
    "        novos = novos_casos[0] if novos_casos else 0\n",
    "        data.append([s, novos, d]) \n",
    "\n",
    "with open('./covid/new_deaths_media.csv', 'w', encoding='UTF8', newline='') as f:\n",
    "    writer = csv.writer(f)\n",
    "\n",
    "    # write the header\n",
    "    writer.writerow(header)\n",
    "\n",
    "    # write multiple rows\n",
    "    writer.writerows(data)\n"
   ]
  },
  {
   "cell_type": "code",
   "execution_count": null,
   "id": "d84f285b",
   "metadata": {},
   "outputs": [],
   "source": []
  }
 ],
 "metadata": {
  "kernelspec": {
   "display_name": "visualization",
   "language": "python",
   "name": "visualization"
  },
  "language_info": {
   "codemirror_mode": {
    "name": "ipython",
    "version": 3
   },
   "file_extension": ".py",
   "mimetype": "text/x-python",
   "name": "python",
   "nbconvert_exporter": "python",
   "pygments_lexer": "ipython3",
   "version": "3.9.5"
  }
 },
 "nbformat": 4,
 "nbformat_minor": 5
}
