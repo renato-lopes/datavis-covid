{
 "cells": [
  {
   "cell_type": "code",
   "execution_count": 7,
   "id": "e8005681",
   "metadata": {},
   "outputs": [],
   "source": [
    "import os\n",
    "import pandas as pd\n",
    "import numpy as np\n",
    "import csv"
   ]
  },
  {
   "cell_type": "code",
   "execution_count": 8,
   "id": "7e51b562",
   "metadata": {},
   "outputs": [],
   "source": [
    "# FILE = \"./covid/cases-brazil-total.csv\"\n",
    "# FILE = \"./covid/cases-brazil-cities.csv\"\n",
    "FILE = \"./covid/cases-brazil-states.csv\"\n",
    "df = pd.read_csv(FILE,  sep=',')"
   ]
  },
  {
   "cell_type": "markdown",
   "id": "88abda37",
   "metadata": {},
   "source": [
    "# Casos Covid\n",
    "---"
   ]
  },
  {
   "cell_type": "code",
   "execution_count": 9,
   "id": "ab90177b",
   "metadata": {},
   "outputs": [],
   "source": [
    "DATES = np.unique(df['date'], return_counts=True)\n",
    "DATES = list(DATES[0])\n",
    "STATES = ['MG', 'SP', 'AM', 'CE', 'PR', 'MA']"
   ]
  },
  {
   "cell_type": "code",
   "execution_count": 10,
   "id": "6c09728e",
   "metadata": {},
   "outputs": [],
   "source": [
    "header = ['day'] + STATES\n",
    "data =[]\n",
    "\n",
    "for d in DATES:\n",
    "    line = [d]\n",
    "    for s in STATES:\n",
    "        base = (df['date'] == d) & (df['state'] == s)\n",
    "        novos_casos = df.loc[base]['newCases'].tolist()\n",
    "        novos = novos_casos[0] if novos_casos else 0\n",
    "        line.append(novos)\n",
    "    data.append(line)   "
   ]
  },
  {
   "cell_type": "code",
   "execution_count": 11,
   "id": "b6f21e6f",
   "metadata": {},
   "outputs": [],
   "source": [
    "with open('./covid/new_cases.csv', 'w', encoding='UTF8', newline='') as f:\n",
    "    writer = csv.writer(f)\n",
    "\n",
    "    # write the header\n",
    "    writer.writerow(header)\n",
    "\n",
    "    # write multiple rows\n",
    "    writer.writerows(data)"
   ]
  },
  {
   "cell_type": "markdown",
   "id": "a51bb397",
   "metadata": {},
   "source": [
    "### Média móvel"
   ]
  },
  {
   "cell_type": "code",
   "execution_count": 12,
   "id": "fbe60e8d",
   "metadata": {},
   "outputs": [],
   "source": [
    "cols = [\"date\", \"newCases\"]\n",
    "STATES = ['MG', 'SP', 'AM', 'CE', 'PR', 'MA']\n",
    "\n",
    "\n",
    "def get_rolling(df, col_name, new_col):\n",
    "    df[new_col] = df[col_name].rolling(7, min_periods=7).mean().round(4)\n",
    "    return df\n",
    "\n",
    "\n",
    "data =[]\n",
    "\n",
    "for state in STATES:\n",
    "    state_data = df.loc[df[\"state\"] == state][cols].reset_index(drop=True).fillna(0.0)\n",
    "    state_data = get_rolling(state_data, \"newCases\", \"value\")\n",
    "    state_data = state_data[[\"date\", \"value\"]].assign(key=state)\n",
    "    \n",
    "    data.append(state_data)\n",
    "\n",
    "\n",
    "resultado = pd.concat(data)\n",
    "\n",
    "\n",
    "################################################\n",
    "\n",
    "df2 = resultado\n",
    "header = ['day'] + STATES\n",
    "data =[]\n",
    "for d in DATES:\n",
    "    line = [d]\n",
    "    for s in STATES:\n",
    "        base = (df2['date'] == d) & (df2['key'] == s)\n",
    "        novos_casos = df2.loc[base]['value'].tolist()\n",
    "        novos = novos_casos[0] if novos_casos else 0\n",
    "        novos = 0 if np.isnan(novos) else novos\n",
    "        line.append(novos)\n",
    "    data.append(line)   \n",
    "\n",
    "with open('./covid/new_cases_media.csv', 'w', encoding='UTF8', newline='') as f:\n",
    "    writer = csv.writer(f)\n",
    "\n",
    "    # write the header\n",
    "    writer.writerow(header)\n",
    "\n",
    "    # write multiple rows\n",
    "    writer.writerows(data)\n",
    "\n",
    "\n"
   ]
  },
  {
   "cell_type": "markdown",
   "id": "1440c060",
   "metadata": {},
   "source": [
    "# Deaths\n",
    "---"
   ]
  },
  {
   "cell_type": "code",
   "execution_count": 17,
   "id": "2205ea10",
   "metadata": {},
   "outputs": [],
   "source": [
    "DATES = np.unique(df['date'], return_counts=True)\n",
    "DATES = list(DATES[0])\n",
    "STATES = ['MG', 'SP', 'AM', 'CE', 'PR', 'MA']\n"
   ]
  },
  {
   "cell_type": "code",
   "execution_count": 18,
   "id": "62437830",
   "metadata": {},
   "outputs": [],
   "source": [
    "header = ['day'] + STATES\n",
    "data =[]\n",
    "\n",
    "for d in DATES:\n",
    "    line = [d]\n",
    "    for s in STATES:\n",
    "        base = (df['date'] == d) & (df['state'] == s)\n",
    "        novos_casos = df.loc[base]['newDeaths'].tolist()\n",
    "        novos = novos_casos[0] if novos_casos else 0\n",
    "        line.append(novos)\n",
    "    data.append(line)          "
   ]
  },
  {
   "cell_type": "code",
   "execution_count": 19,
   "id": "d097c80f",
   "metadata": {},
   "outputs": [],
   "source": [
    "with open('./covid/new_deaths.csv', 'w', encoding='UTF8', newline='') as f:\n",
    "    writer = csv.writer(f)\n",
    "\n",
    "    # write the header\n",
    "    writer.writerow(header)\n",
    "\n",
    "    # write multiple rows\n",
    "    writer.writerows(data)"
   ]
  },
  {
   "cell_type": "markdown",
   "id": "8d72585b",
   "metadata": {},
   "source": [
    "### Média"
   ]
  },
  {
   "cell_type": "code",
   "execution_count": 16,
   "id": "4abf47e0",
   "metadata": {},
   "outputs": [],
   "source": [
    "cols = [\"date\", \"newDeaths\"]\n",
    "STATES = ['MG', 'SP', 'AM', 'CE', 'PR', 'MA']\n",
    "\n",
    "\n",
    "def get_rolling(df, col_name, new_col):\n",
    "    df[new_col] = df[col_name].rolling(7, min_periods=7).mean().round(4)\n",
    "    return df\n",
    "\n",
    "\n",
    "data =[]\n",
    "\n",
    "for state in STATES:\n",
    "    state_data = df.loc[df[\"state\"] == state][cols].reset_index(drop=True).fillna(0.0)\n",
    "    state_data = get_rolling(state_data, \"newDeaths\", \"value\")\n",
    "    state_data = state_data[[\"date\", \"value\"]].assign(key=state)\n",
    "    \n",
    "    data.append(state_data)\n",
    "\n",
    "\n",
    "resultado = pd.concat(data)\n",
    "\n",
    "################################################\n",
    "\n",
    "df2 = resultado\n",
    "header = ['day'] + STATES\n",
    "data =[]\n",
    "for d in DATES:\n",
    "    line = [d]\n",
    "    for s in STATES:\n",
    "        base = (df2['date'] == d) & (df2['key'] == s)\n",
    "        novos_casos = df2.loc[base]['value'].tolist()\n",
    "        novos = novos_casos[0] if novos_casos else 0\n",
    "        novos = 0 if np.isnan(novos) else novos\n",
    "        line.append(novos)\n",
    "    data.append(line)     \n",
    "\n",
    "with open('./covid/new_deaths_media.csv', 'w', encoding='UTF8', newline='') as f:\n",
    "    writer = csv.writer(f)\n",
    "\n",
    "    # write the header\n",
    "    writer.writerow(header)\n",
    "\n",
    "    # write multiple rows\n",
    "    writer.writerows(data)\n"
   ]
  }
 ],
 "metadata": {
  "kernelspec": {
   "display_name": "visualization",
   "language": "python",
   "name": "visualization"
  },
  "language_info": {
   "codemirror_mode": {
    "name": "ipython",
    "version": 3
   },
   "file_extension": ".py",
   "mimetype": "text/x-python",
   "name": "python",
   "nbconvert_exporter": "python",
   "pygments_lexer": "ipython3",
   "version": "3.9.5"
  }
 },
 "nbformat": 4,
 "nbformat_minor": 5
}
