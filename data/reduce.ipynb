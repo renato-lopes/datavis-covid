{
 "cells": [
  {
   "cell_type": "code",
   "execution_count": 11,
   "id": "2b53cce9",
   "metadata": {},
   "outputs": [],
   "source": [
    "state = \"sp\"\n",
    "IN_FILE = f\"/home/renato/LargeFiles/datavis/{state}.csv\"\n",
    "OUT_FILE = f\"/home/renato/LargeFiles/datavis/reduced-{state}.csv\"\n",
    "\n",
    "COLS = ['paciente_idade', 'paciente_enumsexobiologico', 'paciente_racacor_valor', 'paciente_endereco_nmmunicipio',\n",
    "        'paciente_endereco_nmpais', 'paciente_endereco_uf', 'paciente_nacionalidade_enumnacionalidade',\n",
    "        'estabelecimento_municipio_nome', 'estabelecimento_uf', 'vacina_grupoatendimento_nome',\n",
    "        'vacina_categoria_nome', 'vacina_dataaplicacao', 'vacina_descricao_dose', 'vacina_nome']"
   ]
  },
  {
   "cell_type": "code",
   "execution_count": 12,
   "id": "c336523f",
   "metadata": {},
   "outputs": [
    {
     "data": {
      "text/plain": [
       "['/mnt/7546623b-eb02-4e32-81f3-22bcee5cdb19/LargeFiles/datavis/reduced-sp.csv']"
      ]
     },
     "execution_count": 12,
     "metadata": {},
     "output_type": "execute_result"
    }
   ],
   "source": [
    "from dask import dataframe as dd\n",
    "data = dd.read_csv(IN_FILE, sep=\";\", usecols=COLS, assume_missing=True)\n",
    "data.to_csv(OUT_FILE, index=False, single_file = True)"
   ]
  },
  {
   "cell_type": "code",
   "execution_count": null,
   "id": "c412e325",
   "metadata": {},
   "outputs": [],
   "source": []
  }
 ],
 "metadata": {
  "kernelspec": {
   "display_name": "Python 3",
   "language": "python",
   "name": "python3"
  },
  "language_info": {
   "codemirror_mode": {
    "name": "ipython",
    "version": 3
   },
   "file_extension": ".py",
   "mimetype": "text/x-python",
   "name": "python",
   "nbconvert_exporter": "python",
   "pygments_lexer": "ipython3",
   "version": "3.8.8"
  }
 },
 "nbformat": 4,
 "nbformat_minor": 5
}
