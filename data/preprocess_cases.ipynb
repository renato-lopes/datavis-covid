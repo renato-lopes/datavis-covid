{
 "cells": [
  {
   "cell_type": "code",
   "execution_count": 1,
   "id": "d3771cce",
   "metadata": {},
   "outputs": [],
   "source": [
    "import os\n",
    "import pandas as pd"
   ]
  },
  {
   "cell_type": "code",
   "execution_count": 5,
   "id": "7585884b",
   "metadata": {},
   "outputs": [],
   "source": [
    "INDIR = \"./covid/\"\n",
    "OUTDIR = \"./covid/states/\"\n",
    "\n",
    "cols = [\"date\", \"newCases\", \"newDeaths\", \"vaccinated_per_100_inhabitants\", \"vaccinated_second_per_100_inhabitants\"]\n",
    "\n",
    "def get_rolling(df, col_name, new_col):\n",
    "    df[new_col] = df[col_name].rolling(7, min_periods=7).mean().round(4)\n",
    "    return df\n",
    "\n",
    "df = pd.read_csv(os.path.join(INDIR, \"cases-brazil-states.csv\"))\n",
    "for state in df[\"state\"].unique():\n",
    "    state_data = df.loc[df[\"state\"] == state][cols].reset_index(drop=True).fillna(0.0)\n",
    "    # Cases rolling average\n",
    "    state_data = get_rolling(state_data, \"newCases\", \"newCasesRolling\")\n",
    "    # Deaths rolling average\n",
    "    state_data = get_rolling(state_data, \"newDeaths\", \"newDeathsRolling\")\n",
    "    state_data = state_data.loc[7:]\n",
    "    state_data.to_csv(os.path.join(OUTDIR, f\"{state}.csv\"), index=False)"
   ]
  },
  {
   "cell_type": "code",
   "execution_count": null,
   "id": "338f20cb",
   "metadata": {},
   "outputs": [],
   "source": []
  }
 ],
 "metadata": {
  "kernelspec": {
   "display_name": "Python 3",
   "language": "python",
   "name": "python3"
  },
  "language_info": {
   "codemirror_mode": {
    "name": "ipython",
    "version": 3
   },
   "file_extension": ".py",
   "mimetype": "text/x-python",
   "name": "python",
   "nbconvert_exporter": "python",
   "pygments_lexer": "ipython3",
   "version": "3.8.8"
  }
 },
 "nbformat": 4,
 "nbformat_minor": 5
}
