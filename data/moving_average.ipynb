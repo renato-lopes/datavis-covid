{
 "cells": [
  {
   "cell_type": "code",
   "execution_count": 1,
   "id": "d3771cce",
   "metadata": {},
   "outputs": [],
   "source": [
    "import os\n",
    "import pandas as pd"
   ]
  },
  {
   "cell_type": "code",
   "execution_count": 2,
   "id": "7585884b",
   "metadata": {},
   "outputs": [],
   "source": [
    "INDIR = \"./covid/\"\n",
    "OUTDIR = \"./covid/cases/\"\n",
    "\n",
    "df = pd.read_csv(os.path.join(INDIR, \"cases-brazil-states.csv\"))\n",
    "for state in df[\"state\"].unique():\n",
    "    newCases = df.loc[df[\"state\"] == state][[\"date\", \"newCases\"]].reset_index(drop=True)\n",
    "    newCases['rollingAvg'] = newCases['newCases'].rolling(7, min_periods=7).mean().round(4)\n",
    "    newCases = newCases.dropna()\n",
    "    newCases.to_csv(os.path.join(OUTDIR, f\"{state}.csv\"), index=False)"
   ]
  },
  {
   "cell_type": "code",
   "execution_count": 3,
   "id": "63086235",
   "metadata": {},
   "outputs": [],
   "source": [
    "INDIR = \"./covid/\"\n",
    "OUTDIR = \"./covid/deaths/\"\n",
    "\n",
    "df = pd.read_csv(os.path.join(INDIR, \"cases-brazil-states.csv\"))\n",
    "for state in df[\"state\"].unique():\n",
    "    newDeaths = df.loc[df[\"state\"] == state][[\"date\", \"newDeaths\"]].reset_index(drop=True)\n",
    "    newDeaths['rollingAvg'] = newDeaths['newDeaths'].rolling(7, min_periods=7).mean().round(4)\n",
    "    newDeaths = newDeaths.dropna()\n",
    "    newDeaths.to_csv(os.path.join(OUTDIR, f\"{state}.csv\"), index=False)"
   ]
  }
 ],
 "metadata": {
  "kernelspec": {
   "display_name": "Python 3",
   "language": "python",
   "name": "python3"
  },
  "language_info": {
   "codemirror_mode": {
    "name": "ipython",
    "version": 3
   },
   "file_extension": ".py",
   "mimetype": "text/x-python",
   "name": "python",
   "nbconvert_exporter": "python",
   "pygments_lexer": "ipython3",
   "version": "3.8.8"
  }
 },
 "nbformat": 4,
 "nbformat_minor": 5
}
